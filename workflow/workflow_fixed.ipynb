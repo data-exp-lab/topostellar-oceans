{
 "cells": [
  {
   "cell_type": "code",
   "execution_count": 2,
   "metadata": {},
   "outputs": [],
   "source": [
    "import yt\n",
    "import yt.analysis_modules.halo_analysis.api as haa\n",
    "import yaml\n",
    "import run_workflow as rw\n",
    "import subprocess\n",
    "import shutil\n",
    "import glob\n",
    "import os"
   ]
  },
  {
   "cell_type": "code",
   "execution_count": 3,
   "metadata": {},
   "outputs": [],
   "source": [
    "seed_ids = [\"%.2d\" % i for i in range(1,11)]\n",
    "\n",
    "workdir = '/dpool/cwagner4/working'\n",
    "enzo_dir = '%s/enzo_sims' %workdir\n",
    "enzo_par = '%s/parameter_file.txt' %enzo_dir\n",
    "enzo_ex = '%s/enzo.exe' %enzo_dir\n",
    "enzo_par_templ = '%s/parameter_file_template.txt' %enzo_dir\n",
    "music_dir = '%s/music' %workdir\n",
    "music_ex = '%s/MUSIC' %music_dir"
   ]
  },
  {
   "cell_type": "code",
   "execution_count": 11,
   "metadata": {},
   "outputs": [
    {
     "data": {
      "text/plain": [
       "['01', '02', '03', '04', '05', '06', '07', '08', '09', '10']"
      ]
     },
     "execution_count": 11,
     "metadata": {},
     "output_type": "execute_result"
    }
   ],
   "source": [
    "seed_ids"
   ]
  },
  {
   "cell_type": "code",
   "execution_count": 12,
   "metadata": {},
   "outputs": [
    {
     "name": "stdout",
     "output_type": "stream",
     "text": [
      "{'seed': '21188\\n', 'seed_id': 'SEED01'}\n",
      "{'seed': '55488\\n', 'seed_id': 'SEED02'}\n",
      "{'seed': '45027\\n', 'seed_id': 'SEED03'}\n",
      "{'seed': '44292\\n', 'seed_id': 'SEED04'}\n",
      "{'seed': '16270\\n', 'seed_id': 'SEED05'}\n",
      "{'seed': '48438\\n', 'seed_id': 'SEED06'}\n",
      "{'seed': '13127\\n', 'seed_id': 'SEED07'}\n",
      "{'seed': '15915\\n', 'seed_id': 'SEED08'}\n",
      "{'seed': '95322\\n', 'seed_id': 'SEED09'}\n",
      "{'seed': '96840\\n', 'seed_id': 'SEED10'}\n"
     ]
    }
   ],
   "source": [
    "os.chdir(music_dir)\n",
    "\n",
    "\n",
    "for i in seed_ids:\n",
    "    seed_idx=i\n",
    "    seed = '%s/topostellar-oceans/resources/SEED%s' %(workdir,seed_idx)\n",
    "\n",
    "    with open(seed, \"r\") as f:\n",
    "        seed_val = f.readline()\n",
    "        f.close()\n",
    "\n",
    "    seed_dict = {'seed': seed_val, 'seed_id': 'SEED%s' %seed_idx}\n",
    "    print(seed_dict)\n",
    "\n",
    "    music_par = '%s/ics_template.conf' %music_dir\n",
    "    music_ic = '%s/SEED%s' %(music_dir,seed_idx)\n",
    "\n",
    "    with open(music_par, \"r\") as f:\n",
    "        contents = f.read()\n",
    "        f.close()\n",
    "\n",
    "    with open('%s/output_ics_SEED%s.conf' %(music_dir,seed_idx), \"a+\") as f:\n",
    "        f.write(contents.format(**seed_dict))\n",
    "        f.close()"
   ]
  },
  {
   "cell_type": "code",
   "execution_count": 17,
   "metadata": {},
   "outputs": [
    {
     "ename": "SyntaxError",
     "evalue": "invalid syntax (<ipython-input-17-4b99a5f98ab4>, line 18)",
     "output_type": "error",
     "traceback": [
      "\u001b[0;36m  File \u001b[0;32m\"<ipython-input-17-4b99a5f98ab4>\"\u001b[0;36m, line \u001b[0;32m18\u001b[0m\n\u001b[0;31m    else:\u001b[0m\n\u001b[0m       ^\u001b[0m\n\u001b[0;31mSyntaxError\u001b[0m\u001b[0;31m:\u001b[0m invalid syntax\n"
     ]
    }
   ],
   "source": [
    "for i in seed_ids[:]:\n",
    "    seed_idx = i\n",
    "\n",
    "    enzo_results = '%s/output/seeds/SEED%s' %(enzo_dir, seed_idx)\n",
    "    halo_coords = '%s/coords.v' %enzo_results\n",
    "\n",
    "    with open(halo_coords) as c:\n",
    "        crds = yaml.load(c, Loader=yaml.FullLoader)\n",
    "    seed = '%s/topostellar-oceans/resources/SEED%s' %(workdir,seed_idx) \n",
    "\n",
    "    with open(seed, \"r\") as f:\n",
    "        seed_val = f.readline()\n",
    "        f.close()\n",
    "    \n",
    "    seed_dict = {'seed': seed_val, 'seed_id': 'SEED%s' %seed_idx}\n",
    "    # print(seed_dict)\n",
    "\n",
    "    else:\n",
    "        center_dict = {'center_1': crds[0], 'center_2': crds[1], 'center_3':  crds[2]}\n",
    "        center_dict.update(seed_dict)\n",
    "        \n",
    "        music_par = '%s/ics_centered_template.conf' %music_dir\n",
    "        music_ic = '%s/SEED%s_initial_centered' %(music_dir,seed_idx)\n",
    "\n",
    "        with open(music_par, \"r\") as f:\n",
    "            contents = f.read()\n",
    "            f.close()\n",
    "        \n",
    "        with open('%s/output_ics_centered_%s.conf' %(music_dir,seed_idx), \"a+\") as f:\n",
    "            f.write(contents.format(**center_dict))\n",
    "            f.close()"
   ]
  },
  {
   "cell_type": "code",
   "execution_count": 12,
   "metadata": {},
   "outputs": [
    {
     "name": "stdout",
     "output_type": "stream",
     "text": [
      "{'seed': '55488\\n', 'seed_id': 'SEED02'}\n",
      "Generated first set of IC\n"
     ]
    }
   ],
   "source": [
    "### Generating initial conditions\n",
    "os.chdir(music_dir)\n",
    "\n",
    "for i in seed_ids[1:2]:\n",
    "    seed_idx = i\n",
    "    refine = False\n",
    "\n",
    "    seed = '%s/topostellar-oceans/resources/SEED%s' %(workdir,seed_idx) \n",
    "\n",
    "    rw.generate_ic(seed=seed,music_dir=music_dir,\n",
    "                seed_idx=seed_idx,enzo_dir=enzo_dir,\n",
    "                music_ex=music_ex,refine=refine)"
   ]
  },
  {
   "cell_type": "code",
   "execution_count": 13,
   "metadata": {},
   "outputs": [
    {
     "name": "stdout",
     "output_type": "stream",
     "text": [
      "Completed first enzo run.\n"
     ]
    }
   ],
   "source": [
    "### Run enzo the first time\n",
    "\n",
    "for sid in seed_ids[1:2]:\n",
    "\n",
    "    #Move MUSIC IC to enzo directory\n",
    "    os.chdir(music_dir)\n",
    "    for file in glob.glob(r'SEED%s/Grid*' %sid):\n",
    "        shutil.copy(file, enzo_dir)\n",
    "    for file in glob.glob(r'SEED%s/Particle*' %sid):\n",
    "        shutil.copy(file, enzo_dir)\n",
    "    for file in glob.glob(r'SEED%s/Refinement*' %sid):\n",
    "        shutil.copy(file, enzo_dir)\n",
    "    \n",
    "    #Run enzo\n",
    "    rw.enzo_run(enzo_dir=enzo_dir,refine=False)\n",
    "\n",
    "    #Move enzo files to output directories\n",
    "    process = subprocess.Popen('./clean_intermediate.sh /seeds/SEED%s' %sid, cwd=enzo_dir,\n",
    "                                shell=True)\n",
    "    process.wait()\n",
    "\n",
    "#     #Find halo coordinates\n",
    "#     enzo_results = '%s/output/seeds/SEED%s' %(enzo_dir,sid)\n",
    "#     rw.find_halos(enzo_results=enzo_results,halo_coords='%s/coords.v' %enzo_results)"
   ]
  },
  {
   "cell_type": "code",
   "execution_count": 12,
   "metadata": {},
   "outputs": [
    {
     "data": {
      "text/plain": [
       "['02', '03', '04', '05', '06', '07', '08', '09', '10']"
      ]
     },
     "execution_count": 12,
     "metadata": {},
     "output_type": "execute_result"
    }
   ],
   "source": [
    "seed_ids[1:]"
   ]
  },
  {
   "cell_type": "code",
   "execution_count": 3,
   "metadata": {},
   "outputs": [
    {
     "name": "stderr",
     "output_type": "stream",
     "text": [
      "Parsing Hierarchy : 100%|██████████| 139/139 [00:00<00:00, 4748.09it/s]\n",
      "Creating catalog:  99%|█████████▊| 5202/5276 [00:01<00:00, 3101.80it/s]Found halos.\n"
     ]
    }
   ],
   "source": [
    "#Find halo coordinates\n",
    "\n",
    "for sid in seed_ids[:1]:\n",
    "    \n",
    "    enzo_results = '%s/output/seeds/SEED%s' %(enzo_dir,sid)\n",
    "    rw.find_halos(enzo_results=enzo_results,halo_coords='%s/coords.v' %enzo_results)"
   ]
  },
  {
   "cell_type": "code",
   "execution_count": 3,
   "metadata": {},
   "outputs": [
    {
     "name": "stdout",
     "output_type": "stream",
     "text": [
      "{'seed': '21188\\n', 'seed_id': 'SEED01'}\n"
     ]
    }
   ],
   "source": [
    "### Refining initial conditions\n",
    "\n",
    "for i in seed_ids[:1]:\n",
    "    seed_idx = i\n",
    "    refine = True\n",
    "\n",
    "    enzo_results = '%s/output/seeds/SEED%s' %(enzo_dir, seed_idx)\n",
    "    halo_coords = '%s/coords.v' %enzo_results\n",
    "    with open(halo_coords) as c:\n",
    "        crds = yaml.load(c, Loader=yaml.FullLoader)\n",
    "    seed = '%s/topostellar-oceans/resources/SEED%s' %(workdir,seed_idx) \n",
    "\n",
    "    rw.generate_ic(seed=seed,music_dir=music_dir,\n",
    "                seed_idx=seed_idx,enzo_dir=enzo_dir,\n",
    "                music_ex=music_ex,refine=refine, crds=crds)"
   ]
  },
  {
   "cell_type": "code",
   "execution_count": 4,
   "metadata": {},
   "outputs": [],
   "source": [
    "### Run enzo the second time with varying JLs\n",
    "\n",
    "for sid in seed_ids[:]:\n",
    "\n",
    "    #Move MUSIC IC to enzo directory\n",
    "    os.chdir(music_dir)\n",
    "    for file in glob.glob(r'SEED%s_initial_centered/Grid*' %sid):\n",
    "        shutil.copy(file, enzo_dir)\n",
    "    for file in glob.glob(r'SEED%s_initial_centered/Particle*' %sid):\n",
    "        shutil.copy(file, enzo_dir)\n",
    "    for file in glob.glob(r'SEED%s_initial_centered/Refinement*' %sid):\n",
    "        shutil.copy(file, enzo_dir)\n",
    "\n",
    "    for i in range(2,8):\n",
    "        jl = 2**i\n",
    "        jl_dict = {'jl_val': jl}\n",
    "\n",
    "        with open(enzo_par_templ, \"r\") as f:\n",
    "            contents = f.read()\n",
    "            f.close()\n",
    "\n",
    "        with open('%s/parameter_file.txt' %enzo_dir, \"a+\") as f:\n",
    "            f.write(contents.format(**jl_dict))\n",
    "            f.close()\n",
    "\n",
    "        #Run enzo\n",
    "        rw.enzo_run(enzo_dir=enzo_dir,refine=True)\n",
    "\n",
    "        #Move intermediate enzo files to output directories\n",
    "        process = subprocess.Popen('./clean_intermediate.sh /seeds/SEED%s_JL%s' %(sid,jl),\n",
    "                                    cwd=enzo_dir, shell=True)\n",
    "        process.wait()\n",
    "\n",
    "        open('%s/parameter_file.txt' %enzo_dir, 'w').close()"
   ]
  },
  {
   "cell_type": "code",
   "execution_count": 4,
   "metadata": {},
   "outputs": [
    {
     "data": {
      "text/plain": [
       "8"
      ]
     },
     "execution_count": 4,
     "metadata": {},
     "output_type": "execute_result"
    }
   ],
   "source": [
    "2**3"
   ]
  },
  {
   "cell_type": "code",
   "execution_count": null,
   "metadata": {},
   "outputs": [],
   "source": []
  }
 ],
 "metadata": {
  "kernelspec": {
   "display_name": "Python 3.7.4 64-bit ('base': conda)",
   "language": "python",
   "name": "python37464bitbasecondabd40b24434624adf987c0e861e8d0474"
  },
  "language_info": {
   "codemirror_mode": {
    "name": "ipython",
    "version": 3
   },
   "file_extension": ".py",
   "mimetype": "text/x-python",
   "name": "python",
   "nbconvert_exporter": "python",
   "pygments_lexer": "ipython3",
   "version": "3.7.4"
  }
 },
 "nbformat": 4,
 "nbformat_minor": 4
}